{
  "nbformat": 4,
  "nbformat_minor": 0,
  "metadata": {
    "colab": {
      "provenance": []
    },
    "kernelspec": {
      "name": "python3",
      "display_name": "Python 3"
    },
    "language_info": {
      "name": "python"
    }
  },
  "cells": [
    {
      "cell_type": "markdown",
      "source": [
        "#Data types and structures questions\n"
      ],
      "metadata": {
        "id": "jj7rVm0LDEVz"
      }
    },
    {
      "cell_type": "markdown",
      "source": [
        "1Q.What are data structures and why are they important?\n",
        "\n",
        "A.In Python, a data structure is a way of organizing and storing data so it can be accessed and modified efficiently. Python provides both built-in data structures and allows the creation of custom ones.\n",
        "\n",
        "Built-in Data Structures in Python:\n",
        "\n",
        "-List – Ordered, mutable collection (e.g., [1, 2, 3])\n",
        "\n",
        "-Tuple – Ordered, immutable collection (e.g., (1, 2, 3))\n",
        "\n",
        "-Set – Unordered, unique elements (e.g., {1, 2, 3})\n",
        "\n",
        "-Dictionary – Key-value pairs (e.g., {'name': 'Alice'})\n",
        "\n",
        "Why Are Data Structures Important in Python?\n",
        "\n",
        "-Efficient Data Handling,\n",
        "They help store, search, and manipulate data easily and efficiently.\n",
        "\n",
        "-Simplifies Code,\n",
        "Python’s powerful built-in data structures reduce the need for complex logic.\n",
        "\n",
        "-Foundation for Algorithms,\n",
        "Many algorithms (e.g., sorting, searching, graph traversal) depend on efficient data structures.\n",
        "\n",
        "-Real-world Problem Solving,\n",
        "Essential in applications like web development, data analysis, machine learning, and more.\n",
        "\n",
        "-Readable and Maintainable,\n",
        "Python’s data structures are designed to be intuitive and improve code readability.\n"
      ],
      "metadata": {
        "id": "ecAche31DMRV"
      }
    },
    {
      "cell_type": "markdown",
      "source": [
        "2Q.Explain the difference between mutable and immutable data types with examples?\n",
        "\n",
        "A.Mutable: Objects that can be changed after they are created.\n",
        "\n",
        "  Immutable: Objects that cannot be changed after they are created.\n",
        "\n"
      ],
      "metadata": {
        "id": "CBNWnygcE6P3"
      }
    },
    {
      "cell_type": "code",
      "source": [
        "#example for mutable\n",
        "my_list = [1, 2, 3]\n",
        "my_list[0] = 10         # Modifying an element\n",
        "print(my_list)          # Output: [10, 2, 3]\n"
      ],
      "metadata": {
        "colab": {
          "base_uri": "https://localhost:8080/"
        },
        "id": "iYOiXieAFfvV",
        "outputId": "810352dd-37da-4e9d-aed4-79e13d43ef4d"
      },
      "execution_count": null,
      "outputs": [
        {
          "output_type": "stream",
          "name": "stdout",
          "text": [
            "[10, 2, 3]\n"
          ]
        }
      ]
    },
    {
      "cell_type": "code",
      "source": [
        "#example for immutable\n",
        "my_str = \"hello\"\n",
        "# my_str[0] = 'H'      # ❌ This will raise an error\n",
        "print(my_str.upper())  # Output: \"HELLO\" (creates a new string)\n"
      ],
      "metadata": {
        "colab": {
          "base_uri": "https://localhost:8080/"
        },
        "id": "JcgI_4STFnHM",
        "outputId": "913c9b5e-603f-4bc5-972b-456509856b3e"
      },
      "execution_count": null,
      "outputs": [
        {
          "output_type": "stream",
          "name": "stdout",
          "text": [
            "HELLO\n"
          ]
        }
      ]
    },
    {
      "cell_type": "markdown",
      "source": [
        "3Q.what are the main differences between lists and tuples in python?\n",
        "\n",
        "A.List: Lists are mutable, meaning their elements can be changed after creation,List is Defined using square brackets, e.g., [1, 2, 3],List Supports a wide range of methods such as append(), remove(), sort(), etc.\n",
        "\n",
        "Tuple: Tuples are immutable, so once created, their elements cannot be changed,Tuple is Defined using parentheses, e.g., (1, 2, 3),Tuple Has limited functionality with only a few built-in methods like count() and index().\n"
      ],
      "metadata": {
        "id": "2lqb5laKFyXP"
      }
    },
    {
      "cell_type": "markdown",
      "source": [
        "4Q.Describe how dictionaries store data?\n",
        "\n",
        "A.A dictionary is a built-in data structure in Python that stores data in key-value pairs. It is unordered (before Python 3.7), mutable, and uses hashing to allow fast access to data.\n",
        "\n",
        "\n",
        "How Do Dictionaries Store Data?\n",
        "\n",
        "-Hash Table Mechanism\n",
        "\n",
        "Python dictionaries use a hash table internally,when you create a dictionary, each key is passed through a hash function that maps it to a specific memory location (called a \"bucket\").\n",
        "\n",
        "-Key-Value Mapping\n",
        "\n",
        "Each key is stored along with its value in this hash table,the key must be hashable (i.e., immutable like strings, numbers, or tuples).\n",
        "\n",
        "-Fast Access\n",
        "\n",
        "Thanks to hashing, accessing a value by key is very fast — on average, O(1) time complexity.\n",
        "\n",
        "-key points\n",
        "\n",
        "Stores data as key-value pairs\n",
        "\n",
        "Uses a hash table internally\n",
        "\n",
        "Keys are unique and immutable\n",
        "\n",
        "Allows fast lookups, insertions, and deletions\n"
      ],
      "metadata": {
        "id": "aX6L_iDZHFcm"
      }
    },
    {
      "cell_type": "code",
      "source": [
        "#structure of a dictionary\n",
        "my_dict = {\n",
        "    \"name\": \"Alice\",\n",
        "    \"age\": 25,\n",
        "    \"city\": \"Delhi\"\n",
        "}\n"
      ],
      "metadata": {
        "id": "uzzaTtqNIWNQ"
      },
      "execution_count": null,
      "outputs": []
    },
    {
      "cell_type": "code",
      "source": [
        "#example for dictionary\n",
        "person = {\"name\": \"John\", \"age\": 30}\n",
        "print(person[\"age\"])  # Output: 30\n"
      ],
      "metadata": {
        "colab": {
          "base_uri": "https://localhost:8080/"
        },
        "id": "HZRasFR2IiwY",
        "outputId": "938daad1-3cc7-4d35-8da1-c5c3d1b70493"
      },
      "execution_count": null,
      "outputs": [
        {
          "output_type": "stream",
          "name": "stdout",
          "text": [
            "30\n"
          ]
        }
      ]
    },
    {
      "cell_type": "markdown",
      "source": [
        "5Q.Why might you use a set instead of a list in python?\n",
        "\n",
        "A.Definitions:\n",
        "\n",
        "A list is an ordered, mutable collection that allows duplicate elements.\n",
        "\n",
        "A set is an unordered, mutable collection that does not allow duplicates and is based on a hash table.\n",
        "\n",
        "Reasons to Use a Set Instead of a List:\n",
        "\n",
        "Uniqueness of Elements,\n",
        "A set automatically removes duplicate values, ensuring that all elements are unique.\n",
        "\n",
        "Faster Membership Testing,\n",
        "Sets provide faster performance for checking whether an item exists, because they use hashing, whereas lists perform linear search.\n",
        "\n",
        "Efficient Set Operations,\n",
        "Sets support built-in operations like union, intersection, difference, and symmetric difference, which are not directly available with lists.\n",
        "\n",
        "Cleaner Data Representation,\n",
        "When the order of data is not important and uniqueness matters, sets offer a more appropriate structure than lists.\n",
        "\n",
        "Improved Performance,\n",
        "Sets are generally more efficient in terms of speed and memory when working with large datasets where duplication is not allowed.\n",
        "\n",
        "You should use a set instead of a list in Python when:\n",
        "\n",
        "You need to store unique items.\n",
        "\n",
        "You want fast lookup operations.\n",
        "\n",
        "You are performing mathematical set operations.\n",
        "\n",
        "The order of elements is not important.\n",
        "\n",
        "\n",
        "\n",
        "\n",
        "\n"
      ],
      "metadata": {
        "id": "2SdWJ2NCIp9z"
      }
    },
    {
      "cell_type": "markdown",
      "source": [
        "6Q.What is string in python and how is different from a list?\n",
        "\n",
        "A.A string in Python is a sequence of characters used to represent textual data. It is created by enclosing characters within single ('), double (\"), or triple quotes (''' or \"\"\"). Strings are immutable, meaning once created, their content cannot be changed.\n",
        "\n",
        "how is different from a list?\n",
        "\n",
        "Use a string when working with text data that doesn’t need modification.\n",
        "\n",
        "Use a list when you need a flexible, editable collection of items.\n",
        "\n",
        "\n"
      ],
      "metadata": {
        "id": "w8FUxbTzJheL"
      }
    },
    {
      "cell_type": "code",
      "source": [
        "#example/comparison\n",
        "# String\n",
        "s = \"hello\"\n",
        "# s[0] = \"H\"  ❌ Error (immutable)\n",
        "\n",
        "# List\n",
        "l = ['h', 'e', 'l', 'l', 'o']\n",
        "l[0] = 'H'   # ✅ Works (mutable)\n"
      ],
      "metadata": {
        "id": "luZ10q0wFxqb"
      },
      "execution_count": null,
      "outputs": []
    },
    {
      "cell_type": "markdown",
      "source": [
        "7Q.How do tuples ensure data integrity in python?"
      ],
      "metadata": {
        "id": "WB-uB7mFKU6K"
      }
    },
    {
      "cell_type": "markdown",
      "source": [
        "A.In Python, tuples are immutable data structures, meaning that once a tuple is created, its elements cannot be changed, added to, or removed. This immutability plays a crucial role in ensuring data integrity, which refers to the accuracy and consistency of data throughout its lifecycle.\n",
        "\n",
        "By preventing any modification to the data after its creation, tuples help maintain a reliable and unchanged state. This is especially important in programs where certain values must remain constant to avoid logic errors or unintended side effects. For example, when using tuples to store fixed configurations, coordinates, or constant parameters, their unchangeable nature ensures that the original data is preserved throughout the program execution.\n",
        "\n",
        "Moreover, because tuples are immutable, they are hashable (if all their elements are hashable) and can therefore be used as keys in dictionaries or elements in sets—structures that rely on the integrity and immutability of their keys or elements.\n",
        "\n",
        "In summary, tuples ensure data integrity in Python by maintaining a consistent and unchangeable set of values, thus protecting data from accidental or unauthorized modification.\n",
        "\n"
      ],
      "metadata": {
        "id": "3OGV4PQC5lJZ"
      }
    },
    {
      "cell_type": "markdown",
      "source": [
        "8Q.What is the hash table,and how it relates dictionaries in python?\n",
        "\n",
        "A.Definition:A hash table is a data structure that stores key-value pairs. It uses a hash function to convert each key into a specific index in an underlying array. The value is then stored at that index. This allows for fast data retrieval, usually in constant time O(1).\n",
        "\n",
        "How Hash Tables Relate to Dictionaries in Python:\n",
        "\n",
        "In Python, dictionaries are directly based on the concept of hash tables. A hash table is a data structure that stores data in the form of key-value pairs and allows for fast data access using a technique called hashing.\n",
        "\n",
        "When you create a dictionary in Python, the language uses a hash table behind the scenes to organize and manage the data. Each key in the dictionary is passed through a hash function, which generates a unique hash value (an integer). This hash value determines where the corresponding value will be stored in memory.\n",
        "\n",
        "Because of this hashing mechanism:\n",
        "\n",
        "Data can be inserted, accessed, or deleted quickly.\n",
        "\n",
        "Each key in a dictionary must be unique and immutable (like strings, numbers, or tuples).\n",
        "\n",
        "The efficiency of dictionaries comes from the fast lookup capabilities of hash tables."
      ],
      "metadata": {
        "id": "JH4K6bG-56i6"
      }
    },
    {
      "cell_type": "markdown",
      "source": [
        "9Q.can lists contain different data types in python?\n",
        "\n",
        "A.Yes, lists in Python can contain different data types. A list is a mutable, ordered collection that can hold heterogeneous elements, meaning the elements do not need to be of the same type.\n",
        "\n",
        "For example, a single list can store:\n",
        "\n",
        "-Integers\n",
        "\n",
        "-Strings\n",
        "\n",
        "-Floats\n",
        "\n",
        "-Booleans\n",
        "\n",
        "-Even other lists or complex objects\n",
        "\n"
      ],
      "metadata": {
        "id": "O5uY7wR06x5F"
      }
    },
    {
      "cell_type": "markdown",
      "source": [
        "10Q.Explain why strings are immutable in python?\n",
        "\n",
        "A.In Python, strings are immutable, meaning that once a string is created, its contents cannot be changed. Any operation that seems to modify a string actually creates a new string object.\n",
        "\n",
        "Reasons Why Strings Are Immutable:\n",
        "-Memory Efficiency:\n",
        "Immutable objects like strings can be safely shared between different parts of a program, reducing memory usage.\n",
        "\n",
        "-Security and Reliability:\n",
        "Since strings are often used as identifiers (like variable names, keys in dictionaries, or file paths), making them immutable ensures they cannot be accidentally altered, leading to more reliable code.\n",
        "\n",
        "-Hashability:\n",
        "Immutable objects can be hashed, which means they can be used as keys in dictionaries or stored in sets. If strings were mutable, their hash value could change, breaking the dictionary or set structure.\n",
        "\n",
        "-Simplicity in Design:\n",
        "Immutable objects are easier to reason about, debug, and work with in concurrent or multi-threaded environments."
      ],
      "metadata": {
        "id": "jIysMtbT7JOB"
      }
    },
    {
      "cell_type": "markdown",
      "source": [
        "11Q.What advantages do dictionaries offer over lists for certain tasks?\n",
        "\n",
        "A.Dictionaries in Python offer several advantages over lists, especially when dealing with key-value relationships. While lists are ideal for ordered collections of items accessed by position, dictionaries are better suited for situations where data is accessed using a unique key.\n",
        "\n",
        "Dictionaries are more suitable than lists when data must be accessed by a unique identifier rather than a numeric index. They offer faster lookups, clearer structure, and better organization for key-value relationships.\n",
        "\n"
      ],
      "metadata": {
        "id": "LzQ6SXzY7n4x"
      }
    },
    {
      "cell_type": "markdown",
      "source": [
        "12Q.Describe a scenario where using a tuple would be preferable over a list?\n",
        "\n",
        "A.A tuple is preferable over a list when the collection of data is immutable, meaning it should not be changed after creation. This ensures data integrity by preventing accidental modification. Tuples are ideal for representing fixed-size, heterogeneous data structures where each element has a specific meaning. Additionally, tuples can provide slight performance benefits due to their immutability. Conversely, lists are used when the data is expected to be mutable or dynamic in size.\n",
        "\n",
        "Scenario: Storing fixed, related data that should not change\n",
        "Imagine you’re working with a function that returns the latitude and longitude coordinates of a specific location.\n",
        "\n",
        "Use a tuple when you want to store a fixed collection of items that should remain constant and where the integrity of the data matters—like coordinates, RGB color values, or database records that should not be altered. Lists are better when you expect to modify, add, or remove items.\n",
        "\n",
        "\n"
      ],
      "metadata": {
        "id": "YYe4sL1g9Bpt"
      }
    },
    {
      "cell_type": "markdown",
      "source": [
        "13Q. How do sets handle duplicate values in Python?\n",
        "\n",
        "A.A set in Python automatically removes duplicate values by storing only unique elements. When you add elements to a set, Python checks whether the element already exists in the set (using hashing). If the element is a duplicate, it is not added again, ensuring that all elements in a set are distinct. This property makes sets useful for eliminating duplicates from collections."
      ],
      "metadata": {
        "id": "nhDaatU19_Dq"
      }
    },
    {
      "cell_type": "markdown",
      "source": [
        "14Q.How does the \"in\" keyword work differently for lists and dictionaries?\n",
        "\n",
        "A.The in keyword in Python is used to check membership, but it works differently for lists and dictionaries:\n",
        "\n",
        "For lists:\n",
        "The in keyword checks if a value exists in the list by scanning elements one by one (linear search). It returns True if the value is found, otherwise False.\n",
        "\n",
        "Example: 5 in [1, 3, 5, 7] → True\n",
        "\n",
        "This operation has O(n) time complexity, where n is the list length.\n",
        "\n",
        "For dictionaries:\n",
        "The in keyword checks if a key exists in the dictionary (not the value). Because dictionaries are implemented using hash tables, this lookup is done efficiently using the hash of the key.\n",
        "\n",
        "Example: 'name' in {'name': 'Alice', 'age': 25} → True\n",
        "\n",
        "This operation generally has O(1) average time complexity."
      ],
      "metadata": {
        "id": "mdSKtZRv-a0R"
      }
    },
    {
      "cell_type": "markdown",
      "source": [
        "15Q.Can you modify the elements of a tuple? Explain why or why not?\n",
        "\n",
        "A.You cannot modify the elements of a tuple because tuples in Python are immutable. This means once a tuple is created, its contents cannot be changed — you cannot add, remove, or update its elements.\n",
        "\n",
        "Why?\n",
        "\n",
        "Immutability is a fundamental property of tuples designed to ensure data integrity and allow tuples to be used as keys in dictionaries or elements in sets (which require immutable objects).\n",
        "\n",
        "Internally, Python stores tuples in a fixed-size, fixed-content structure, so modifying elements is not allowed.\n",
        "\n",
        "However, if a tuple contains mutable objects (like lists), the contents of those mutable objects can be changed, but the tuple’s structure (the references it holds) cannot be altered."
      ],
      "metadata": {
        "id": "OVbtUiWQ-rRE"
      }
    },
    {
      "cell_type": "markdown",
      "source": [
        "16Q.What is a nested dictionary, and give an example of its use case?\n",
        "\n",
        "A.A nested dictionary in Python is a dictionary where one or more values are themselves dictionaries. This allows representing complex, hierarchical data structures with multiple layers of key-value pairs."
      ],
      "metadata": {
        "id": "dH_yBl17-6uo"
      }
    },
    {
      "cell_type": "code",
      "source": [
        "#use case example\n",
        "#Imagine you want to store information about students and their grades in different subjects:\n",
        "students = {\n",
        "    \"sowmith\": {\n",
        "        \"Math\": 85,\n",
        "        \"Science\": 92,\n",
        "        \"English\": 88\n",
        "    },\n",
        "    \"Bob\": {\n",
        "        \"Math\": 78,\n",
        "        \"Science\": 81,\n",
        "        \"English\": 74\n",
        "    }\n",
        "}\n"
      ],
      "metadata": {
        "id": "VJRQTQp0_JHz"
      },
      "execution_count": 2,
      "outputs": []
    },
    {
      "cell_type": "markdown",
      "source": [
        "17Q.Describe the time complexity of accessing elements in a dictionary?\n",
        "\n",
        "A.Accessing an element in a Python dictionary by its key has an average time complexity of O(1) (constant time). This is because dictionaries are implemented as hash tables, which allow direct lookup of values using the hash of the key.\n",
        "\n",
        "Details:\n",
        "-When you access dict[key], Python computes the hash of the key and uses it to directly find the location of the value in memory.\n",
        "\n",
        "-This means the lookup does not depend on the number of items stored, so it is very fast.\n",
        "\n",
        "-In the worst case (e.g., many hash collisions), the time complexity can degrade to O(n), where n is the number of items in the dictionary, but this is very rare due to Python’s efficient hashing and collision resolution."
      ],
      "metadata": {
        "id": "axcyEY2A_X-P"
      }
    },
    {
      "cell_type": "markdown",
      "source": [
        "18Q.In what situations are lists preferred over dictionaries?\n",
        "\n",
        "A.Lists are preferred over dictionaries when:\n",
        "\n",
        "-Order matters and you need to maintain or rely on the sequence of elements. Lists preserve the order of insertion, whereas dictionary keys are unordered before Python 3.7 (though now ordered, lists are still better for sequence operations).\n",
        "\n",
        "-You primarily need to access elements by position (index) rather than by key. Lists allow efficient access using integer indices.\n",
        "\n",
        "-You need to store homogeneous items (similar type or meaning) in a simple, linear collection.\n",
        "\n",
        "-You need to perform operations like slicing, concatenation, or iteration in order.\n",
        "\n",
        "-Memory efficiency: Lists generally use less memory when storing simple sequences compared to dictionaries that require storing keys and hashing.\n",
        "\n"
      ],
      "metadata": {
        "id": "kieptRpa_p4n"
      }
    },
    {
      "cell_type": "markdown",
      "source": [
        "19Q.Why are dictionaries considered unordered, and how does that affect data retrieval?\n",
        "\n",
        "A.Dictionaries were historically considered unordered because, before Python 3.7, the language specification did not guarantee that the order of keys would be preserved when iterating over a dictionary. Internally, dictionaries are implemented as hash tables, which store key-value pairs based on the hash of the keys, not their insertion order.\n",
        "\n",
        "Why unordered?\n",
        "\n",
        "The hash function distributes keys across the table to optimize lookup speed, which means keys are stored in an order determined by the hash, not by the sequence of insertion.\n",
        "\n",
        "Because of this, when you iterate over a dictionary or view its keys, the order could appear arbitrary and could change between different runs or Python versions.\n",
        "\n",
        "Effect on data retrieval:\n",
        "\n",
        "Retrieval by key is unaffected and remains efficient (average O(1) time) because lookup uses hashing, not order.\n",
        "\n",
        "However, if your program logic depends on the order of keys (e.g., iterating in the exact order items were added), relying on dictionary order in versions prior to 3.7 can cause inconsistent behavior.\n",
        "\n",
        "From Python 3.7 onward, dictionaries preserve insertion order, making them ordered in practice, though the underlying retrieval complexity remains the same.\n",
        "\n"
      ],
      "metadata": {
        "id": "xSgHI8Hp_3st"
      }
    },
    {
      "cell_type": "markdown",
      "source": [
        "20Q.Explain the difference between a list and a dictionary in terms of data retrieval?\n",
        "\n",
        "A.The main difference between a list and a dictionary in terms of data retrieval lies in how you access elements and the efficiency of that access:\n",
        "\n",
        "List:\n",
        "\n",
        "Elements are accessed by integer index (position).\n",
        "\n",
        "Retrieval requires knowing the position of the item.\n",
        "\n",
        "Access time is O(1) when you have the index.\n",
        "\n",
        "Searching for a value by content requires scanning elements one by one, which is O(n) time.\n",
        "\n",
        "Dictionary:\n",
        "\n",
        "Elements are accessed by key (which can be almost any immutable type).\n",
        "\n",
        "Retrieval uses the key directly, without needing to know any position.\n",
        "\n",
        "Average access time is O(1) due to hashing.\n",
        "\n",
        "Searching for a value requires checking all entries (O(n)), but lookup by key is very fast.\n"
      ],
      "metadata": {
        "id": "KOUVD9YrAVnv"
      }
    },
    {
      "cell_type": "code",
      "source": [
        "#example for list\n",
        "my_list = ['apple', 'banana', 'cherry']\n",
        "item = my_list[1]  # Access by index, returns 'banana'\n"
      ],
      "metadata": {
        "id": "CgYNFBZ89rfT"
      },
      "execution_count": 3,
      "outputs": []
    },
    {
      "cell_type": "code",
      "source": [
        "#example for Dictionary\n",
        "my_dict = {'name': 'sowmith', 'age': 25}\n",
        "item = my_dict['name']  # Access by key, returns 'Alice'\n"
      ],
      "metadata": {
        "id": "MQQozappAvhW"
      },
      "execution_count": 4,
      "outputs": []
    },
    {
      "cell_type": "markdown",
      "source": [
        "#Practical Questions"
      ],
      "metadata": {
        "id": "yvRowlEkA-nA"
      }
    },
    {
      "cell_type": "code",
      "execution_count": 5,
      "metadata": {
        "id": "-49NY210C7nb",
        "colab": {
          "base_uri": "https://localhost:8080/"
        },
        "outputId": "5c844c6b-a0a2-4966-cf3b-e30adca7838b"
      },
      "outputs": [
        {
          "output_type": "stream",
          "name": "stdout",
          "text": [
            "Sowmith\n"
          ]
        }
      ],
      "source": [
        "# 1Q.Write a code to create a string with your name and print it.\n",
        "name = \"Sowmith\"\n",
        "print(name)\n"
      ]
    },
    {
      "cell_type": "code",
      "source": [
        "# 2Q Write a code to find the length of the string \"Hello World\".\n",
        "text = \"Hello World\"\n",
        "length = len(text)\n",
        "print(length)\n"
      ],
      "metadata": {
        "colab": {
          "base_uri": "https://localhost:8080/"
        },
        "id": "DwKxA9gmBUzc",
        "outputId": "1da4e72f-9022-40bb-8b8d-b99ee9c3354f"
      },
      "execution_count": 6,
      "outputs": [
        {
          "output_type": "stream",
          "name": "stdout",
          "text": [
            "11\n"
          ]
        }
      ]
    },
    {
      "cell_type": "code",
      "source": [
        "#3Q.Write a code to slice the first 3 characters from the string \"Python Programming\".\n",
        "text = \"Python Programming\"\n",
        "slice_text = text[:3]\n",
        "print(slice_text)\n"
      ],
      "metadata": {
        "colab": {
          "base_uri": "https://localhost:8080/"
        },
        "id": "DwxZZIvjB23e",
        "outputId": "c2f51cd6-6122-495c-b43e-bf73c8e1edbb"
      },
      "execution_count": 7,
      "outputs": [
        {
          "output_type": "stream",
          "name": "stdout",
          "text": [
            "Pyt\n"
          ]
        }
      ]
    },
    {
      "cell_type": "code",
      "source": [
        "# 4Q.Write a code to convert the string \"hello\" to uppercase.\n",
        "text = \"hello\"\n",
        "uppercase_text = text.upper()\n",
        "print(uppercase_text)\n"
      ],
      "metadata": {
        "colab": {
          "base_uri": "https://localhost:8080/"
        },
        "id": "PEQgXzQQCk0s",
        "outputId": "7f67124a-b091-4922-e474-ac065ebcba95"
      },
      "execution_count": 8,
      "outputs": [
        {
          "output_type": "stream",
          "name": "stdout",
          "text": [
            "HELLO\n"
          ]
        }
      ]
    },
    {
      "cell_type": "code",
      "source": [
        "# 5Q.Write a code to replace the word \"apple\" with \"orange\" in the string \"I like apple\".\n",
        "text = \"I like apple\"\n",
        "new_text = text.replace(\"apple\", \"orange\")\n",
        "print(new_text)\n"
      ],
      "metadata": {
        "colab": {
          "base_uri": "https://localhost:8080/"
        },
        "id": "F7jDH6-dC2sR",
        "outputId": "15994276-f555-4198-d9ef-41fed796a579"
      },
      "execution_count": 9,
      "outputs": [
        {
          "output_type": "stream",
          "name": "stdout",
          "text": [
            "I like orange\n"
          ]
        }
      ]
    },
    {
      "cell_type": "code",
      "source": [
        "# 6Q.Write a code to create a list with numbers l to 5 and print it.\n",
        "numbers = list(range(1, 6))\n",
        "print(numbers)\n"
      ],
      "metadata": {
        "colab": {
          "base_uri": "https://localhost:8080/"
        },
        "id": "1Av0zopVDE6_",
        "outputId": "8f44256a-393d-4435-bd6a-15fd45a5d9e4"
      },
      "execution_count": 10,
      "outputs": [
        {
          "output_type": "stream",
          "name": "stdout",
          "text": [
            "[1, 2, 3, 4, 5]\n"
          ]
        }
      ]
    },
    {
      "cell_type": "code",
      "source": [
        "# 7Q.Write a code to append the number 10 to the list [1, 2, 3, 4].\n",
        "numbers = [1, 2, 3, 4]\n",
        "numbers.append(10)\n",
        "print(numbers)\n"
      ],
      "metadata": {
        "colab": {
          "base_uri": "https://localhost:8080/"
        },
        "id": "XA9mqfGaDQRu",
        "outputId": "373010e3-0c54-4533-db49-0d0ec0e00c8e"
      },
      "execution_count": 11,
      "outputs": [
        {
          "output_type": "stream",
          "name": "stdout",
          "text": [
            "[1, 2, 3, 4, 10]\n"
          ]
        }
      ]
    },
    {
      "cell_type": "code",
      "source": [
        "# 8Q.Write a code to remove the number 3 from the list [1, 2, 3, 4, 5].\n",
        "numbers = [1, 2, 3, 4, 5]\n",
        "numbers.remove(3)\n",
        "print(numbers)\n"
      ],
      "metadata": {
        "colab": {
          "base_uri": "https://localhost:8080/"
        },
        "id": "gOvz2l0YDY41",
        "outputId": "e99b0ebd-0a23-44ec-e84d-6f834cf41eee"
      },
      "execution_count": 12,
      "outputs": [
        {
          "output_type": "stream",
          "name": "stdout",
          "text": [
            "[1, 2, 4, 5]\n"
          ]
        }
      ]
    },
    {
      "cell_type": "code",
      "source": [
        "# 9Q.Write a code to access the second element in the list ['a', 'b', 'c', 'd'].\n",
        "letters = ['a', 'b', 'c', 'd']\n",
        "second_element = letters[1]\n",
        "print(second_element)\n"
      ],
      "metadata": {
        "colab": {
          "base_uri": "https://localhost:8080/"
        },
        "id": "6G5hAuh1DkUa",
        "outputId": "de21f7c9-f710-4caf-eb1e-6d70ce77d1c8"
      },
      "execution_count": 13,
      "outputs": [
        {
          "output_type": "stream",
          "name": "stdout",
          "text": [
            "b\n"
          ]
        }
      ]
    },
    {
      "cell_type": "code",
      "source": [
        "# 10Q.Write a code to reverse the list [10, 20, 30, 40, 50].\n",
        "numbers = [10, 20, 30, 40, 50]\n",
        "numbers.reverse()\n",
        "print(numbers)\n"
      ],
      "metadata": {
        "colab": {
          "base_uri": "https://localhost:8080/"
        },
        "id": "s5AVpWu8Dy3R",
        "outputId": "0893efbb-e773-4da0-a531-ac4a5715c66f"
      },
      "execution_count": 14,
      "outputs": [
        {
          "output_type": "stream",
          "name": "stdout",
          "text": [
            "[50, 40, 30, 20, 10]\n"
          ]
        }
      ]
    },
    {
      "cell_type": "code",
      "source": [
        "# 11Q.Write a code to create a tuple with the elements 100, 200, 300 and print it.\n",
        "my_tuple = (100, 200, 300)\n",
        "print(my_tuple)\n"
      ],
      "metadata": {
        "colab": {
          "base_uri": "https://localhost:8080/"
        },
        "id": "Flc4uMn-D6xa",
        "outputId": "ff9ed9ea-e8d1-4702-d561-043524a02cef"
      },
      "execution_count": 15,
      "outputs": [
        {
          "output_type": "stream",
          "name": "stdout",
          "text": [
            "(100, 200, 300)\n"
          ]
        }
      ]
    },
    {
      "cell_type": "code",
      "source": [
        "# 12Q.Write a code to access the second-to-last element of the tuple (red', green, 'blue, yellow).\n",
        "colors = ('red', 'green', 'blue', 'yellow')\n",
        "second_to_last = colors[-2]\n",
        "print(second_to_last)\n"
      ],
      "metadata": {
        "colab": {
          "base_uri": "https://localhost:8080/"
        },
        "id": "KC9B5XFDEDWF",
        "outputId": "2c14d983-44ef-4660-ca07-bdeb689d0037"
      },
      "execution_count": 16,
      "outputs": [
        {
          "output_type": "stream",
          "name": "stdout",
          "text": [
            "blue\n"
          ]
        }
      ]
    },
    {
      "cell_type": "code",
      "source": [
        "# 13Q.Write a code to find the minimum number in the tuple (10, 20, 5, 15).\n",
        "numbers = (10, 20, 5, 15)\n",
        "minimum = min(numbers)\n",
        "print(minimum)\n"
      ],
      "metadata": {
        "colab": {
          "base_uri": "https://localhost:8080/"
        },
        "id": "k5UfeBJ7EL-e",
        "outputId": "8496e09c-2821-46de-aed9-dd5b67407b1b"
      },
      "execution_count": 17,
      "outputs": [
        {
          "output_type": "stream",
          "name": "stdout",
          "text": [
            "5\n"
          ]
        }
      ]
    },
    {
      "cell_type": "code",
      "source": [
        "# 14Q.Write a code to find the index of the element \"cat\" in the tuple ('dog', 'cat', rabbit').\n",
        "animals = ('dog', 'cat', 'rabbit')\n",
        "index = animals.index('cat')\n",
        "print(index)\n"
      ],
      "metadata": {
        "colab": {
          "base_uri": "https://localhost:8080/"
        },
        "id": "a5devraeEXr3",
        "outputId": "6aea7279-93b4-4fd5-b70e-7f3c5ba09c81"
      },
      "execution_count": 18,
      "outputs": [
        {
          "output_type": "stream",
          "name": "stdout",
          "text": [
            "1\n"
          ]
        }
      ]
    },
    {
      "cell_type": "code",
      "source": [
        "# 15Q.Write a code to create a tuple containing three different fruits and check if \"kiwi\" is in it.\n",
        "fruits = ('apple', 'banana', 'mango')\n",
        "is_kiwi_present = 'kiwi' in fruits\n",
        "print(is_kiwi_present)\n"
      ],
      "metadata": {
        "colab": {
          "base_uri": "https://localhost:8080/"
        },
        "id": "BZ-PNJTSEg61",
        "outputId": "fd3fd069-7bd8-46d6-901a-26958fd28a29"
      },
      "execution_count": 19,
      "outputs": [
        {
          "output_type": "stream",
          "name": "stdout",
          "text": [
            "False\n"
          ]
        }
      ]
    },
    {
      "cell_type": "code",
      "source": [
        "# 16Q.Write a code to create a set with the elements 'a', 'b', 'c' and print it.\n",
        "my_set = {'a', 'b', 'c'}\n",
        "print(my_set)\n"
      ],
      "metadata": {
        "colab": {
          "base_uri": "https://localhost:8080/"
        },
        "id": "MWf2kQoKErCe",
        "outputId": "d64a1b5f-6eef-47c2-bab4-4025b5463756"
      },
      "execution_count": 20,
      "outputs": [
        {
          "output_type": "stream",
          "name": "stdout",
          "text": [
            "{'a', 'b', 'c'}\n"
          ]
        }
      ]
    },
    {
      "cell_type": "code",
      "source": [
        "# 17Q.Write a code to clear all elements from the set {1, 2, 3, 4, 5}.\n",
        "my_set = {1, 2, 3, 4, 5}\n",
        "my_set.clear()\n",
        "print(my_set)\n"
      ],
      "metadata": {
        "colab": {
          "base_uri": "https://localhost:8080/"
        },
        "id": "H-d_9-xtE1uN",
        "outputId": "b52b458a-1daf-4cfc-c98a-3f9b8c188921"
      },
      "execution_count": 21,
      "outputs": [
        {
          "output_type": "stream",
          "name": "stdout",
          "text": [
            "set()\n"
          ]
        }
      ]
    },
    {
      "cell_type": "code",
      "source": [
        "# 18Q.Write a code to remove the element 4 from the set {1, 2, 3, 4}.\n",
        "my_set = {1, 2, 3, 4}\n",
        "my_set.remove(4)\n",
        "print(my_set)\n"
      ],
      "metadata": {
        "colab": {
          "base_uri": "https://localhost:8080/"
        },
        "id": "6RVFpUWnE9sG",
        "outputId": "b5be47ee-eead-4caa-b66a-51ac3d4ad69e"
      },
      "execution_count": 22,
      "outputs": [
        {
          "output_type": "stream",
          "name": "stdout",
          "text": [
            "{1, 2, 3}\n"
          ]
        }
      ]
    },
    {
      "cell_type": "code",
      "source": [
        "# 19Q.Write a code to find the union of two sets f1, 2, 3} and {3, 4, 5}.\n",
        "set1 = {1, 2, 3}\n",
        "set2 = {3, 4, 5}\n",
        "union_set = set1.union(set2)\n",
        "print(union_set)\n"
      ],
      "metadata": {
        "colab": {
          "base_uri": "https://localhost:8080/"
        },
        "id": "xKUCwHfMFIjj",
        "outputId": "18b47f66-358f-460b-a846-7f9abf42dafb"
      },
      "execution_count": 23,
      "outputs": [
        {
          "output_type": "stream",
          "name": "stdout",
          "text": [
            "{1, 2, 3, 4, 5}\n"
          ]
        }
      ]
    },
    {
      "cell_type": "code",
      "source": [
        "# 20Q.Write a code to find the intersection of two sets {1, 2, 3} and {2, 3, 4}.\n",
        "set1 = {1, 2, 3}\n",
        "set2 = {2, 3, 4}\n",
        "intersection_set = set1.intersection(set2)\n",
        "print(intersection_set)\n"
      ],
      "metadata": {
        "colab": {
          "base_uri": "https://localhost:8080/"
        },
        "id": "Q3ta3ugbFTZL",
        "outputId": "6e9d54a9-61a0-457f-a783-25440bc19e9e"
      },
      "execution_count": 24,
      "outputs": [
        {
          "output_type": "stream",
          "name": "stdout",
          "text": [
            "{2, 3}\n"
          ]
        }
      ]
    },
    {
      "cell_type": "code",
      "source": [
        "# 21Q. Write a code to create a dictionary with the keys \"name\", \"age\", and \"city\", and print it.\n",
        "person = {\n",
        "    \"name\": \"sowmith\",\n",
        "    \"age\": 30,\n",
        "    \"city\": \"New York\"\n",
        "}\n",
        "print(person)\n"
      ],
      "metadata": {
        "colab": {
          "base_uri": "https://localhost:8080/"
        },
        "id": "AElkq59JFbk_",
        "outputId": "46e651ab-5f49-4b6a-80e7-14c01171edca"
      },
      "execution_count": 25,
      "outputs": [
        {
          "output_type": "stream",
          "name": "stdout",
          "text": [
            "{'name': 'sowmith', 'age': 30, 'city': 'New York'}\n"
          ]
        }
      ]
    },
    {
      "cell_type": "code",
      "source": [
        "# 22Q.Write a code to add a new key-value pair \"country': \"USA\" to the dictionary {'name: 'John', 'age': 25}.\n",
        "person = {'name': 'John', 'age': 25}\n",
        "person['country'] = 'USA'\n",
        "print(person)\n"
      ],
      "metadata": {
        "colab": {
          "base_uri": "https://localhost:8080/"
        },
        "id": "LXw-VoJAFlRe",
        "outputId": "c49c71bc-9fc8-4de0-d1db-3dd00436cebc"
      },
      "execution_count": 30,
      "outputs": [
        {
          "output_type": "stream",
          "name": "stdout",
          "text": [
            "{'name': 'John', 'age': 25, 'country': 'USA'}\n"
          ]
        }
      ]
    },
    {
      "cell_type": "code",
      "source": [
        "# 23Q.Write a code to access the value associated with the key \"name\" in the dictionary {'name: 'Alice, 'age: 30}.\n",
        "person = {'name': 'Alice', 'age': 30}\n",
        "name_value = person['name']\n",
        "print(name_value)\n"
      ],
      "metadata": {
        "colab": {
          "base_uri": "https://localhost:8080/"
        },
        "id": "MZRfZ3AIF2fl",
        "outputId": "33f5bda6-1dc2-4a73-eb60-31323a2afc65"
      },
      "execution_count": 28,
      "outputs": [
        {
          "output_type": "stream",
          "name": "stdout",
          "text": [
            "Alice\n"
          ]
        }
      ]
    },
    {
      "cell_type": "code",
      "source": [
        "# 24Q.Write a code to remove the key \"age\" from the dictionary {name: 'Bob', 'age: 22, 'City: 'New York'}.\n",
        "person = {'name': 'Bob', 'age': 22, 'City': 'New York'}\n",
        "person.pop('age')\n",
        "print(person)\n"
      ],
      "metadata": {
        "colab": {
          "base_uri": "https://localhost:8080/"
        },
        "id": "L7XNQNthGB-E",
        "outputId": "3ed6373c-0c56-4008-dbac-84952f4fe81e"
      },
      "execution_count": 29,
      "outputs": [
        {
          "output_type": "stream",
          "name": "stdout",
          "text": [
            "{'name': 'Bob', 'City': 'New York'}\n"
          ]
        }
      ]
    },
    {
      "cell_type": "code",
      "source": [
        "# 25Q.Write a code to check if the key \"city\" exists in the dictionary {name: 'Alice', 'city: 'Paris'}.\n",
        "person = {'name': 'Alice', 'city': 'Paris'}\n",
        "key_exists = 'city' in person\n",
        "print(key_exists)\n"
      ],
      "metadata": {
        "colab": {
          "base_uri": "https://localhost:8080/"
        },
        "id": "a0xvqenkGNHI",
        "outputId": "ed5d3ff2-d0e1-4412-9c73-c43dc60e97fd"
      },
      "execution_count": 31,
      "outputs": [
        {
          "output_type": "stream",
          "name": "stdout",
          "text": [
            "True\n"
          ]
        }
      ]
    },
    {
      "cell_type": "code",
      "source": [
        "# 26Q.Write a code to create a list, a tuple, and a dictionary, and print them all.\n",
        "my_list = [1, 2, 3]\n",
        "my_tuple = ('a', 'b', 'c')\n",
        "my_dict = {'name': 'sowmith', 'age': 22}\n",
        "\n",
        "print(my_list)\n",
        "print(my_tuple)\n",
        "print(my_dict)\n"
      ],
      "metadata": {
        "colab": {
          "base_uri": "https://localhost:8080/"
        },
        "id": "jhuo2dZBGdQp",
        "outputId": "631db19e-e1d1-4376-dccd-c56f0a8ff7fb"
      },
      "execution_count": 33,
      "outputs": [
        {
          "output_type": "stream",
          "name": "stdout",
          "text": [
            "[1, 2, 3]\n",
            "('a', 'b', 'c')\n",
            "{'name': 'sowmith', 'age': 22}\n"
          ]
        }
      ]
    },
    {
      "cell_type": "code",
      "source": [
        "# 27Q.Write a code to create a list of 5 random numbers between 1 and 100, sort it in ascending order, and print the result. (replaced)\n",
        "import random\n",
        "\n",
        "random_numbers = [random.randint(1, 100) for _ in range(5)]\n",
        "random_numbers.sort()\n",
        "print(random_numbers)\n"
      ],
      "metadata": {
        "colab": {
          "base_uri": "https://localhost:8080/"
        },
        "id": "XhtT39CqG7wP",
        "outputId": "17df1d96-0a2c-4f4e-8625-1d8c50d373fb"
      },
      "execution_count": 35,
      "outputs": [
        {
          "output_type": "stream",
          "name": "stdout",
          "text": [
            "[15, 32, 58, 87, 94]\n"
          ]
        }
      ]
    },
    {
      "cell_type": "code",
      "source": [
        "# 28Q.Write a code to create a list with strings and print the element at the third index.\n",
        "my_list = ['apple', 'banana', 'cherry', 'date', 'elderberry']\n",
        "print(my_list[3])\n"
      ],
      "metadata": {
        "colab": {
          "base_uri": "https://localhost:8080/"
        },
        "id": "xaY2BdEAHFNx",
        "outputId": "b471a3b2-9ed2-41b5-e87a-565eab9ea65f"
      },
      "execution_count": 36,
      "outputs": [
        {
          "output_type": "stream",
          "name": "stdout",
          "text": [
            "date\n"
          ]
        }
      ]
    },
    {
      "cell_type": "code",
      "source": [
        "# 29Q. Write a code to combine two dictionaries into one and print the result.\n",
        "dict1 = {'a': 1, 'b': 2}\n",
        "dict2 = {'c': 3, 'd': 4}\n",
        "\n",
        "combined_dict = {**dict1, **dict2}\n",
        "print(combined_dict)\n"
      ],
      "metadata": {
        "colab": {
          "base_uri": "https://localhost:8080/"
        },
        "id": "3tHCOesmHPdn",
        "outputId": "3a0cc720-fa97-4b32-d553-67524a1dd616"
      },
      "execution_count": 37,
      "outputs": [
        {
          "output_type": "stream",
          "name": "stdout",
          "text": [
            "{'a': 1, 'b': 2, 'c': 3, 'd': 4}\n"
          ]
        }
      ]
    },
    {
      "cell_type": "code",
      "source": [
        "# 30Q. Write a code to convert a list of strings into a set.\n",
        "my_list = ['apple', 'banana', 'cherry', 'apple']\n",
        "my_set = set(my_list)\n",
        "print(my_set)\n"
      ],
      "metadata": {
        "colab": {
          "base_uri": "https://localhost:8080/"
        },
        "id": "e0vcPSzBHYpB",
        "outputId": "42b3e0ff-def9-423c-a4b1-c31854b8938e"
      },
      "execution_count": 38,
      "outputs": [
        {
          "output_type": "stream",
          "name": "stdout",
          "text": [
            "{'banana', 'apple', 'cherry'}\n"
          ]
        }
      ]
    },
    {
      "cell_type": "code",
      "source": [],
      "metadata": {
        "id": "KeQ5dy3KHi0k"
      },
      "execution_count": null,
      "outputs": []
    }
  ]
}